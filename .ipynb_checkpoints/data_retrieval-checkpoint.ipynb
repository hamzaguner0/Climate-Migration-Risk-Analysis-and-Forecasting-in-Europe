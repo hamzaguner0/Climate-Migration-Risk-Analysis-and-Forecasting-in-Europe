{
 "cells": [
  {
   "cell_type": "code",
   "execution_count": 16,
   "id": "de1831fe",
   "metadata": {
    "scrolled": false
   },
   "outputs": [
    {
     "name": "stderr",
     "output_type": "stream",
     "text": [
      "2024-12-19 17:44:49,196 INFO [2024-09-28T00:00:00] **Welcome to the New Climate Data Store (CDS)!** This new system is in its early days of full operations and still undergoing enhancements and fine tuning. Some disruptions are to be expected. Your \n",
      "[feedback](https://jira.ecmwf.int/plugins/servlet/desk/portal/1/create/202) is key to improve the user experience on the new CDS for the benefit of everyone. Thank you.\n",
      "2024-12-19 17:44:49,196 INFO [2024-09-26T00:00:00] Watch our [Forum](https://forum.ecmwf.int/) for Announcements, news and other discussed topics.\n",
      "2024-12-19 17:44:49,196 INFO [2024-09-16T00:00:00] Remember that you need to have an ECMWF account to use the new CDS. **Your old CDS credentials will not work in new CDS!**\n",
      "2024-12-19 17:44:49,196 WARNING [2024-06-16T00:00:00] CDS API syntax is changed and some keys or parameter names may have also changed. To avoid requests failing, please use the \"Show API request code\" tool on the dataset Download Form to check you are using the correct syntax for your API request.\n",
      "2024-12-19 17:44:51,664 WARNING [2024-10-10T00:00:00] From 1 July to 17 November 2024, the final ERA5 product is different to ERA5T due to the correction of [the assimilation of incorrect snow observations on the Alps](https://confluence.ecmwf.int/x/USuXGw)\n",
      "2024-12-19 17:44:51,672 INFO Request ID is 8288d348-b6af-4c93-8f64-a8c6aa2cab99\n",
      "2024-12-19 17:44:51,903 INFO status has been updated to accepted\n",
      "2024-12-19 17:44:57,873 INFO status has been updated to running\n",
      "2024-12-19 17:45:01,494 INFO status has been updated to successful\n"
     ]
    },
    {
     "data": {
      "application/vnd.jupyter.widget-view+json": {
       "model_id": "",
       "version_major": 2,
       "version_minor": 0
      },
      "text/plain": [
       "a7a54adf439eda9f0990f76c4a123150.nc:   0%|          | 0.00/899k [00:00<?, ?B/s]"
      ]
     },
     "metadata": {},
     "output_type": "display_data"
    },
    {
     "name": "stdout",
     "output_type": "stream",
     "text": [
      "Veri başarıyla indirildi!\n"
     ]
    }
   ],
   "source": [
    "import cdsapi\n",
    "\n",
    "client = cdsapi.Client(\n",
    "    url=\"https://cds.climate.copernicus.eu/api\",\n",
    "    key=\"7974a448-41b9-4303-8bcf-d7f29b562f77\"  \n",
    ")\n",
    "\n",
    "dataset = \"reanalysis-era5-single-levels\"\n",
    "request = {\n",
    "    \"product_type\": \"reanalysis\",\n",
    "    \"variable\": \"2m_temperature\",\n",
    "    \"year\": \"2023\",\n",
    "    \"month\": [\"01\", \"02\", \"03\"],\n",
    "    \"day\": [\"01\", \"02\", \"03\"],\n",
    "    \"time\": [\"12:00\"],\n",
    "    \"format\": \"netcdf\",\n",
    "    \"area\": [75, -40, 35, 60],\n",
    "}\n",
    "target = \"temperature_europe_2023.nc\"\n",
    "\n",
    "client.retrieve(dataset, request, target)\n",
    "\n",
    "print(\"Data downloaded successfully!\")"
   ]
  },
  {
   "cell_type": "code",
   "execution_count": 2,
   "id": "099d5d68",
   "metadata": {},
   "outputs": [
    {
     "name": "stdout",
     "output_type": "stream",
     "text": [
      "<xarray.Dataset>\n",
      "Dimensions:     (valid_time: 9, latitude: 161, longitude: 401)\n",
      "Coordinates:\n",
      "    number      int64 ...\n",
      "  * valid_time  (valid_time) datetime64[ns] 2023-01-01T12:00:00 ... 2023-03-0...\n",
      "  * latitude    (latitude) float64 75.0 74.75 74.5 74.25 ... 35.5 35.25 35.0\n",
      "  * longitude   (longitude) float64 -40.0 -39.75 -39.5 ... 59.5 59.75 60.0\n",
      "    expver      (valid_time) object ...\n",
      "Data variables:\n",
      "    t2m         (valid_time, latitude, longitude) float32 ...\n",
      "Attributes:\n",
      "    GRIB_centre:             ecmf\n",
      "    GRIB_centreDescription:  European Centre for Medium-Range Weather Forecasts\n",
      "    GRIB_subCentre:          0\n",
      "    Conventions:             CF-1.7\n",
      "    institution:             European Centre for Medium-Range Weather Forecasts\n",
      "    history:                 2024-12-19T14:25 GRIB to CDM+CF via cfgrib-0.9.1...\n"
     ]
    }
   ],
   "source": [
    "import xarray as xr\n",
    "\n",
    "data = xr.open_dataset(\"temperature_europe_2023.nc\")\n",
    "\n",
    "print(data)"
   ]
  }
 ],
 "metadata": {
  "kernelspec": {
   "display_name": "Python 3 (ipykernel)",
   "language": "python",
   "name": "python3"
  },
  "language_info": {
   "codemirror_mode": {
    "name": "ipython",
    "version": 3
   },
   "file_extension": ".py",
   "mimetype": "text/x-python",
   "name": "python",
   "nbconvert_exporter": "python",
   "pygments_lexer": "ipython3",
   "version": "3.11.5"
  }
 },
 "nbformat": 4,
 "nbformat_minor": 5
}
